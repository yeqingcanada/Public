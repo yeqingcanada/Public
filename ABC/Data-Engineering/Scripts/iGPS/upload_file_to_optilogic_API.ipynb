{
 "cells": [
  {
   "cell_type": "code",
   "execution_count": null,
   "id": "1d78f27e",
   "metadata": {},
   "outputs": [],
   "source": [
    "import requests\n",
    "\n",
    "url = 'https://api.optilogic.app/v0/Taurus/file/Sent To Me/shantanu_dixit/iGPS_App_QA/fileName?overwrite=false'\n",
    "\n",
    "with open(r'C:\\Users\\Qing Ye\\Downloads\\nameFile.xlsx', 'rb') as file:\n",
    "\tdata = file.read()\n",
    "print(data)\n",
    "print(len(data))\n",
    "headers = {\n",
    "\t'X-API-KEY': 'eyJhbGciOiJSUzI1NiIsInR5cCIgOiAiSldUIiwia2lkIiA6ICJaZWsybS11LTFQV1lCTVgxQU5HUEY3QU9pU2hTVExOVGo5QW11STJvbjBzIn0.eyJqdGkiOiI4NzMzZTYwNi0xMDQ4LTRlOTgtOTY2Yy04YmY1ODk3ZTI4ZDEiLCJleHAiOjE2NjMxOTAzNTQsIm5iZiI6MCwiaWF0IjoxNjYzMTg2NzU0LCJpc3MiOiJodHRwczovL2F1dGguYWNjb3VudHMub3B0aWxvZ2ljLmFwcC9hdXRoL3JlYWxtcy9jaGUiLCJhdWQiOlsiYXBpIiwiY2hlLXB1YmxpYyIsImJyb2tlciIsImFjY291bnQiXSwic3ViIjoiZTFmNjg3OTktZjc5Ni00ZDVkLTljNTEtODQ4ZWUzNDU2NzE3IiwidHlwIjoiQmVhcmVyIiwiYXpwIjoiYXBpIiwiYXV0aF90aW1lIjowLCJzZXNzaW9uX3N0YXRlIjoiNzM5YmYzNDgtMjgxZi00YjU2LWJiOWMtZmYzYzY2NDJjMTk2IiwiYWNyIjoiMSIsInJlYWxtX2FjY2VzcyI6eyJyb2xlcyI6WyJvZmZsaW5lX2FjY2VzcyIsInVtYV9hdXRob3JpemF0aW9uIl19LCJyZXNvdXJjZV9hY2Nlc3MiOnsiY2hlLXB1YmxpYyI6eyJyb2xlcyI6WyJndXJvYmktd2xzLWFjY2VzcyJdfSwiYnJva2VyIjp7InJvbGVzIjpbInJlYWQtdG9rZW4iXX0sImFjY291bnQiOnsicm9sZXMiOlsibWFuYWdlLWFjY291bnQiLCJtYW5hZ2UtYWNjb3VudC1saW5rcyIsInZpZXctcHJvZmlsZSJdfX0sInNjb3BlIjoib3BlbmlkIHByb2ZpbGUgZW1haWwiLCJlbWFpbF92ZXJpZmllZCI6dHJ1ZSwibmFtZSI6IkFsaSBLYXppbSBHYXJkZXppIiwicHJlZmVycmVkX3VzZXJuYW1lIjoiZ2FyZGV6aSIsImdpdmVuX25hbWUiOiJBbGkgS2F6aW0iLCJhcGlfY29uY3VycmVudF9zb2x2ZXNfbWF4IjowLCJmYW1pbHlfbmFtZSI6IkdhcmRlemkiLCJlbWFpbCI6ImdhcmRlemlAbWllYmFjaC5jb20ifQ.NvgZvAi_6IAmSLmeBEy6072dpgrnPJWD2ifrCzOdWJRVIL5_j7DDPWQp3u3AbPLkV_47Brb-tzVl_B1BpdpUq9je5tcBbjkcs6csGN5xmRNo5CLhaQc7hpsK1V6o99nf-O3MH305M7DWCD1-MVJXGwab0cDKUAepcHcdc6c_xEdjKvQeTE_lOoVIaG0RMiqhfAQlN-nrJhhlQWLXyfYI2VFhZCG9azH9Cx9EWlhwlv-EghV9LKnbuwXvF70R2bGLN0Fm-RJ_YnNgCeGbtl815ULiS1s6pD72z0ib1niGvUO5Coqc0KpGRy18U_2sG8WxotIRbeYpchFy-CL7xkVRPA',\n",
    "\t'content-type': 'application/octet-stream',\n",
    "\t'content-length': f'{len(data)}'\n",
    "}\n",
    "\n",
    "response = requests.request('POST', url, data=data, headers=headers, stream=True)\n",
    "print(response.text)"
   ]
  },
  {
   "cell_type": "code",
   "execution_count": null,
   "id": "3c480ff0",
   "metadata": {},
   "outputs": [],
   "source": []
  }
 ],
 "metadata": {
  "kernelspec": {
   "display_name": "Python 3",
   "language": "python",
   "name": "python3"
  },
  "language_info": {
   "codemirror_mode": {
    "name": "ipython",
    "version": 3
   },
   "file_extension": ".py",
   "mimetype": "text/x-python",
   "name": "python",
   "nbconvert_exporter": "python",
   "pygments_lexer": "ipython3",
   "version": "3.9.0 (tags/v3.9.0:9cf6752, Oct  5 2020, 15:34:40) [MSC v.1927 64 bit (AMD64)]"
  },
  "vscode": {
   "interpreter": {
    "hash": "487d7ef45d6b0964a51c42eb8c40ba255a789120f17b618c1eeaa028c54b0528"
   }
  }
 },
 "nbformat": 4,
 "nbformat_minor": 5
}
