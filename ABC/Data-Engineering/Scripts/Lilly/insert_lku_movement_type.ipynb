{
 "cells": [
  {
   "cell_type": "code",
   "execution_count": 36,
   "id": "67de8599",
   "metadata": {},
   "outputs": [
    {
     "name": "stdout",
     "output_type": "stream",
     "text": [
      "df_site     Source Movement Type                   Description  Use  Site\n",
      "0      EWM          1010                       Putaway  yes   Feg\n",
      "1      EWM          1010                       Putaway  yes  IDAP\n",
      "2      EWM          1011  Putaway with Storage Process   no   Feg\n",
      "3      EWM          1011  Putaway with Storage Process   no  IDAP\n",
      "4      EWM          1012        Putaway (Distributive)  yes   Feg\n",
      "..     ...           ...                           ...  ...   ...\n",
      "735     WM           ZY2          RE all acct.assignB5   no   All\n",
      "736     WM           ZZ1              GR goods receipt   no   All\n",
      "737     WM           ZZ2          GR for PO   reversal   no   All\n",
      "738     WM           ZZ3              GR goods receipt   no   All\n",
      "739     WM           ZZ4             GR TP dely w. tax   no   All\n",
      "\n",
      "[740 rows x 5 columns]\n",
      "df_all     Source Movement Type                       Description Selection\n",
      "0      EWM          1010                           Putaway       yes\n",
      "1      EWM          1011      Putaway with Storage Process        no\n",
      "2      EWM          1012            Putaway (Distributive)       yes\n",
      "3      EWM          1013  Putaway with VAS Storage Process        no\n",
      "4      EWM          1013                   Putaway to B108        no\n",
      "..     ...           ...                               ...       ...\n",
      "620     WM           ZY2              RE all acct.assignB5        no\n",
      "621     WM           ZZ1                  GR goods receipt        no\n",
      "622     WM           ZZ2              GR for PO   reversal        no\n",
      "623     WM           ZZ3                  GR goods receipt        no\n",
      "624     WM           ZZ4                 GR TP dely w. tax        no\n",
      "\n",
      "[625 rows x 4 columns]\n"
     ]
    }
   ],
   "source": [
    "import pandas as pd\n",
    "import numpy as np\n",
    "import os\n",
    "\n",
    "data_site = pd.read_excel(r'C:\\Users\\Qing Ye\\Downloads\\Movement Type.xlsb', sheet_name='WITH SITE INFO', engine='pyxlsb')\n",
    "data_all = pd.read_excel(r'C:\\Users\\Qing Ye\\Downloads\\Movement Type.xlsb', sheet_name='WITHOUT SITE SPECIFIC', engine='pyxlsb')\n",
    "\n",
    "df_site = pd.DataFrame(data_site)\n",
    "df_all = pd.DataFrame(data_all)\n",
    "\n",
    "print('df_site', df_site)\n",
    "print('df_all', df_all)"
   ]
  },
  {
   "cell_type": "code",
   "execution_count": 37,
   "id": "b098a2cd",
   "metadata": {},
   "outputs": [
    {
     "name": "stdout",
     "output_type": "stream",
     "text": [
      "df_site     System MvtType                   Description MvtInScopeTptCalc  Site\n",
      "0      EWM    1010                       Putaway               yes   Feg\n",
      "1      EWM    1010                       Putaway               yes  IDAP\n",
      "2      EWM    1011  Putaway with Storage Process                no   Feg\n",
      "3      EWM    1011  Putaway with Storage Process                no  IDAP\n",
      "4      EWM    1012        Putaway (Distributive)               yes   Feg\n",
      "..     ...     ...                           ...               ...   ...\n",
      "735     WM     ZY2          RE all acct.assignB5                no   All\n",
      "736     WM     ZZ1              GR goods receipt                no   All\n",
      "737     WM     ZZ2          GR for PO   reversal                no   All\n",
      "738     WM     ZZ3              GR goods receipt                no   All\n",
      "739     WM     ZZ4             GR TP dely w. tax                no   All\n",
      "\n",
      "[740 rows x 5 columns]\n",
      "df_all     System MvtType                       Description MvtInScopeTptCalc\n",
      "0      EWM    1010                           Putaway               yes\n",
      "1      EWM    1011      Putaway with Storage Process                no\n",
      "2      EWM    1012            Putaway (Distributive)               yes\n",
      "3      EWM    1013  Putaway with VAS Storage Process                no\n",
      "4      EWM    1013                   Putaway to B108                no\n",
      "..     ...     ...                               ...               ...\n",
      "620     WM     ZY2              RE all acct.assignB5                no\n",
      "621     WM     ZZ1                  GR goods receipt                no\n",
      "622     WM     ZZ2              GR for PO   reversal                no\n",
      "623     WM     ZZ3                  GR goods receipt                no\n",
      "624     WM     ZZ4                 GR TP dely w. tax                no\n",
      "\n",
      "[625 rows x 4 columns]\n"
     ]
    }
   ],
   "source": [
    "\"\"\" rename columns \"\"\"\n",
    "\n",
    "df_site.rename(columns={'Source': 'System', 'Movement Type': 'MvtType',  'Use': 'MvtInScopeTptCalc'}, inplace=True)\n",
    "df_all.rename(columns={'Source': 'System', 'Movement Type': 'MvtType', 'Selection': 'MvtInScopeTptCalc'}, inplace=True)\n",
    "\n",
    "print('df_site', df_site)\n",
    "print('df_all', df_all)"
   ]
  },
  {
   "cell_type": "code",
   "execution_count": 38,
   "id": "6f6a65c9",
   "metadata": {},
   "outputs": [
    {
     "name": "stdout",
     "output_type": "stream",
     "text": [
      "df_site     System MvtType                   Description MvtInScopeTptCalc  Site\n",
      "0      EWM    1010                       Putaway                 Y   Feg\n",
      "1      EWM    1010                       Putaway                 Y  IDAP\n",
      "2      EWM    1011  Putaway with Storage Process                 N   Feg\n",
      "3      EWM    1011  Putaway with Storage Process                 N  IDAP\n",
      "4      EWM    1012        Putaway (Distributive)                 Y   Feg\n",
      "..     ...     ...                           ...               ...   ...\n",
      "735     WM     ZY2          RE all acct.assignB5                 N   All\n",
      "736     WM     ZZ1              GR goods receipt                 N   All\n",
      "737     WM     ZZ2          GR for PO   reversal                 N   All\n",
      "738     WM     ZZ3              GR goods receipt                 N   All\n",
      "739     WM     ZZ4             GR TP dely w. tax                 N   All\n",
      "\n",
      "[740 rows x 5 columns]\n",
      "df_all     System MvtType                       Description MvtInScopeTptCalc\n",
      "0      EWM    1010                           Putaway                 Y\n",
      "1      EWM    1011      Putaway with Storage Process                 N\n",
      "2      EWM    1012            Putaway (Distributive)                 Y\n",
      "3      EWM    1013  Putaway with VAS Storage Process                 N\n",
      "4      EWM    1013                   Putaway to B108                 N\n",
      "..     ...     ...                               ...               ...\n",
      "620     WM     ZY2              RE all acct.assignB5                 N\n",
      "621     WM     ZZ1                  GR goods receipt                 N\n",
      "622     WM     ZZ2              GR for PO   reversal                 N\n",
      "623     WM     ZZ3                  GR goods receipt                 N\n",
      "624     WM     ZZ4                 GR TP dely w. tax                 N\n",
      "\n",
      "[625 rows x 4 columns]\n"
     ]
    }
   ],
   "source": [
    "\"\"\" change yes/no to true/false \"\"\"\n",
    "\n",
    "\n",
    "df_site['MvtInScopeTptCalc'] = df_site['MvtInScopeTptCalc'].replace({'yes': 'Y', 'no': 'N'})\n",
    "df_all['MvtInScopeTptCalc'] = df_all['MvtInScopeTptCalc'].replace({'yes': 'Y', 'no': 'N'})\n",
    "\n",
    "print('df_site', df_site)\n",
    "print('df_all', df_all)"
   ]
  },
  {
   "cell_type": "code",
   "execution_count": 39,
   "id": "09554268",
   "metadata": {},
   "outputs": [
    {
     "name": "stdout",
     "output_type": "stream",
     "text": [
      "df_site     System MvtType                   Description MvtInScopeTptCalc        Site\n",
      "0      EWM    1010                       Putaway                 Y         Feg\n",
      "1      EWM    1010                       Putaway                 Y        IDAP\n",
      "2      EWM    1011  Putaway with Storage Process                 N         Feg\n",
      "3      EWM    1011  Putaway with Storage Process                 N        IDAP\n",
      "4      EWM    1012        Putaway (Distributive)                 Y         Feg\n",
      "..     ...     ...                           ...               ...         ...\n",
      "235    PMX     557                           NaN                 Y  Fegersheim\n",
      "236    PMX     557                           NaN                 Y         IPM\n",
      "237    PMX     557                           NaN                 Y       Sesto\n",
      "238    PMX     557                           NaN                 Y      Suzhou\n",
      "239    PMX     559                           NaN                 N  Alcobendas\n",
      "\n",
      "[240 rows x 5 columns]\n",
      "df_all      System MvtType                       Description MvtInScopeTptCalc\n",
      "0       EWM    1010                           Putaway                 Y\n",
      "1       EWM    1011      Putaway with Storage Process                 N\n",
      "2       EWM    1012            Putaway (Distributive)                 Y\n",
      "3       EWM    1013  Putaway with VAS Storage Process                 N\n",
      "4       EWM    1013                   Putaway to B108                 N\n",
      "...     ...     ...                               ...               ...\n",
      "1120     WM     ZY2              RE all acct.assignB5                 N\n",
      "1121     WM     ZZ1                  GR goods receipt                 N\n",
      "1122     WM     ZZ2              GR for PO   reversal                 N\n",
      "1123     WM     ZZ3                  GR goods receipt                 N\n",
      "1124     WM     ZZ4                 GR TP dely w. tax                 N\n",
      "\n",
      "[1125 rows x 4 columns]\n"
     ]
    }
   ],
   "source": [
    "\"\"\" filter site/all, merge two all dfs into one all df \"\"\"\n",
    "\n",
    "df_all_one = df_site[df_site['Site'] == \"All\"]\n",
    "df_site = df_site[df_site['Site'] != \"All\"]\n",
    "\n",
    "df_all_one = df_all_one.drop(columns=['Site'])\n",
    "df_all = pd.concat([df_all, df_all_one], ignore_index=True)\n",
    "\n",
    "print('df_site', df_site)\n",
    "print('df_all', df_all)"
   ]
  },
  {
   "cell_type": "code",
   "execution_count": 40,
   "id": "8663f5c7",
   "metadata": {},
   "outputs": [],
   "source": [
    "import urllib\n",
    "from sqlalchemy import create_engine, inspect\n",
    "\n",
    "DATABASES = {\n",
    "  'default': {\n",
    "     'ENGINE': 'mssql',\n",
    "     'NAME': \"miebachcapacitytooldb\",\n",
    "     'USER': 'miebachindianapolis',\n",
    "     \"PASSWORD\": 'Miebach1',\n",
    "     \"HOST\": 'miebachinternalprojectdbs.database.windows.net',\n",
    "     \"PORT\": \"1433\",\n",
    "     \"OPTIONS\": {\"driver\": \"ODBC Driver 17 for SQL Server\",\n",
    "             },\n",
    "     }\n",
    "}\n",
    "\n",
    "def connect_database():\n",
    "\n",
    "    driver = DATABASES['default']['OPTIONS']['driver']\n",
    "    server = DATABASES['default']['HOST']\n",
    "    database = DATABASES['default']['NAME']\n",
    "    username = DATABASES['default']['USER']\n",
    "    password = DATABASES['default']['PASSWORD']\n",
    "\n",
    "    # connection parameters\n",
    "    params = 'DRIVER=' + driver + ';' \\\n",
    "        'SERVER=' + server + ';' \\\n",
    "        'DATABASE=' + database + ';' \\\n",
    "        'UID=' + username + ';' \\\n",
    "        'PWD=' + password + ';'\n",
    "\n",
    "    conn_params = urllib.parse.quote_plus(params)\n",
    "    dbconn = create_engine('mssql+pyodbc:///?odbc_connect=%s' %\n",
    "                           conn_params, fast_executemany=False)\n",
    "\n",
    "    autocommit_engine = dbconn.execution_options(isolation_level=\"AUTOCOMMIT\")\n",
    "    return dbconn\n",
    "engine = connect_database()"
   ]
  },
  {
   "cell_type": "code",
   "execution_count": 41,
   "id": "79657325",
   "metadata": {},
   "outputs": [
    {
     "name": "stdout",
     "output_type": "stream",
     "text": [
      "site_list ['Fegersheim', 'Sesto', 'IDAP_IPM', 'NALO', 'Indy_API', 'Branchburg', 'Alcobendas', 'Kinsale', 'Seishin', 'Suzhou', 'PR1', 'PR05', 'Limerick_API', 'Concord', 'RTP', 'DC_North_Carolina', 'Lebanon_API', 'Lebanon_AT', 'IDAP', 'IPM', 'TST_Central', 'TST_API', 'TST_Expansion', 'TST_Other', 'Affiliate', 'NewFunctionTestSite']\n"
     ]
    }
   ],
   "source": [
    "\"\"\" retrieve all site name from database \"\"\"\n",
    "\n",
    "query = f\"SELECT SiteName as Site FROM SiteMaster\"\n",
    "result = engine.execute(query).fetchall()\n",
    "site_list = [row['Site'] for row in result]\n",
    "\n",
    "print(\"site_list\", site_list)"
   ]
  },
  {
   "cell_type": "code",
   "execution_count": 44,
   "id": "e0a2f743",
   "metadata": {},
   "outputs": [
    {
     "name": "stdout",
     "output_type": "stream",
     "text": [
      "unmatched_set set()\n"
     ]
    }
   ],
   "source": [
    "\"\"\" make the site name is correct and match the one in from database \"\"\"\n",
    "\n",
    "unmatched_set = set()\n",
    "\n",
    "for value in df_site['Site']:\n",
    "    if value not in site_list:\n",
    "        unmatched_set.add(value)\n",
    "\n",
    "print(\"unmatched_set\", unmatched_set)        "
   ]
  },
  {
   "cell_type": "code",
   "execution_count": 43,
   "id": "f2cfdd43",
   "metadata": {},
   "outputs": [],
   "source": [
    "\"\"\" replace the unmatch value with the correct site name, and repeat the above step to make sure there is no unmatched site name \"\"\"\n",
    "\n",
    "df_site['Site'] = df_site['Site'].replace({'Feg': 'Fegersheim'})"
   ]
  },
  {
   "cell_type": "code",
   "execution_count": 45,
   "id": "07a2691c",
   "metadata": {},
   "outputs": [
    {
     "name": "stdout",
     "output_type": "stream",
     "text": [
      "df_all       System MvtType                       Description MvtInScopeTptCalc  \\\n",
      "0        EWM    1010                           Putaway                 Y   \n",
      "1        EWM    1011      Putaway with Storage Process                 N   \n",
      "2        EWM    1012            Putaway (Distributive)                 Y   \n",
      "3        EWM    1013  Putaway with VAS Storage Process                 N   \n",
      "4        EWM    1013                   Putaway to B108                 N   \n",
      "...      ...     ...                               ...               ...   \n",
      "29245     WM     ZY2              RE all acct.assignB5                 N   \n",
      "29246     WM     ZZ1                  GR goods receipt                 N   \n",
      "29247     WM     ZZ2              GR for PO   reversal                 N   \n",
      "29248     WM     ZZ3                  GR goods receipt                 N   \n",
      "29249     WM     ZZ4                 GR TP dely w. tax                 N   \n",
      "\n",
      "                      Site  \n",
      "0               Fegersheim  \n",
      "1               Fegersheim  \n",
      "2               Fegersheim  \n",
      "3               Fegersheim  \n",
      "4               Fegersheim  \n",
      "...                    ...  \n",
      "29245  NewFunctionTestSite  \n",
      "29246  NewFunctionTestSite  \n",
      "29247  NewFunctionTestSite  \n",
      "29248  NewFunctionTestSite  \n",
      "29249  NewFunctionTestSite  \n",
      "\n",
      "[29250 rows x 5 columns]\n"
     ]
    }
   ],
   "source": [
    "\"\"\" for all df, add site column, and repeat the whole df for each site \"\"\"\n",
    "\n",
    "df_list = []\n",
    "\n",
    "for site in site_list:\n",
    "    df_copy = df_all.copy()\n",
    "    df_copy['Site'] = site\n",
    "    df_list.append(df_copy)\n",
    "\n",
    "df_all = pd.concat(df_list, ignore_index=True)\n",
    "print('df_all', df_all)"
   ]
  },
  {
   "cell_type": "code",
   "execution_count": 47,
   "id": "95f3221a",
   "metadata": {},
   "outputs": [
    {
     "name": "stdout",
     "output_type": "stream",
     "text": [
      "Done\n"
     ]
    }
   ],
   "source": [
    "\"\"\" insert into database \"\"\"\n",
    "\n",
    "datatable = 'LKU_MvtType_InScope'\n",
    "\n",
    "# df_site.to_sql(datatable, engine, if_exists='append', index=False)\n",
    "df_all.to_sql(datatable, engine, if_exists='append', index=False)\n",
    "\n",
    "print(\"Done\")"
   ]
  }
 ],
 "metadata": {
  "kernelspec": {
   "display_name": "Python 3 (ipykernel)",
   "language": "python",
   "name": "python3"
  },
  "language_info": {
   "codemirror_mode": {
    "name": "ipython",
    "version": 3
   },
   "file_extension": ".py",
   "mimetype": "text/x-python",
   "name": "python",
   "nbconvert_exporter": "python",
   "pygments_lexer": "ipython3",
   "version": "3.9.12"
  }
 },
 "nbformat": 4,
 "nbformat_minor": 5
}
