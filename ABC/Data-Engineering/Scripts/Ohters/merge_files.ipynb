{
 "cells": [
  {
   "cell_type": "code",
   "execution_count": 2,
   "id": "cc141a27",
   "metadata": {},
   "outputs": [
    {
     "name": "stdout",
     "output_type": "stream",
     "text": [
      "0\n",
      "1342052\n",
      "1342052\n",
      "1\n",
      "6508705\n",
      "7850757\n",
      "DONE!\n"
     ]
    }
   ],
   "source": [
    "import os\n",
    "import glob\n",
    "import pandas as pd\n",
    "\n",
    "OUTPUT_FILE_PATH = 'sales_order_result.csv'\n",
    "os.chdir(r\"C:\\Users\\Qing Ye\\Downloads\\merge-file\")\n",
    "extension = 'csv'\n",
    "all_filenames = [i for i in glob.glob('*.{}'.format(extension))]\n",
    "lines_total = 0\n",
    "\n",
    "for index, f in enumerate(all_filenames):\n",
    "    df = pd.read_csv(f, low_memory=False,encoding= 'unicode_escape')\n",
    "#     print(df)\n",
    "    df.to_csv(OUTPUT_FILE_PATH, mode='a', index=False,\n",
    "              header=(not os.path.exists(OUTPUT_FILE_PATH)))\n",
    "    df_size = df.shape[0]\n",
    "    lines_total = lines_total + df_size\n",
    "    print(index)\n",
    "    print(df_size)\n",
    "    print(lines_total)\n",
    "print('DONE!')"
   ]
  },
  {
   "cell_type": "code",
   "execution_count": null,
   "id": "dde4ad27",
   "metadata": {},
   "outputs": [],
   "source": []
  }
 ],
 "metadata": {
  "kernelspec": {
   "display_name": "Python 3",
   "language": "python",
   "name": "python3"
  },
  "language_info": {
   "codemirror_mode": {
    "name": "ipython",
    "version": 3
   },
   "file_extension": ".py",
   "mimetype": "text/x-python",
   "name": "python",
   "nbconvert_exporter": "python",
   "pygments_lexer": "ipython3",
   "version": "3.9.0 (tags/v3.9.0:9cf6752, Oct  5 2020, 15:34:40) [MSC v.1927 64 bit (AMD64)]"
  },
  "vscode": {
   "interpreter": {
    "hash": "487d7ef45d6b0964a51c42eb8c40ba255a789120f17b618c1eeaa028c54b0528"
   }
  }
 },
 "nbformat": 4,
 "nbformat_minor": 5
}
