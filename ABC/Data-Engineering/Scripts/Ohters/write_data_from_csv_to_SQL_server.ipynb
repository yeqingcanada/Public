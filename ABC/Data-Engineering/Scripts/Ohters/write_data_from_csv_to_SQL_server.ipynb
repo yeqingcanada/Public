{
 "cells": [
  {
   "cell_type": "code",
   "execution_count": null,
   "id": "cd15b05b",
   "metadata": {},
   "outputs": [],
   "source": [
    "import pandas as pd\n",
    "import numpy as np\n",
    "import os\n",
    "\n",
    "# data = pd.read_csv (r'working-days.csv') \n",
    "# df = pd.DataFrame(data)\n",
    "\n",
    "data = pd.read_excel(r'LKU.xlsx', sheet_name='Temp')\n",
    "df = pd.DataFrame(data)\n",
    "\n",
    "print(df)"
   ]
  },
  {
   "cell_type": "code",
   "execution_count": null,
   "id": "edd94fd5",
   "metadata": {},
   "outputs": [],
   "source": [
    "import urllib\n",
    "from sqlalchemy import create_engine\n",
    "\n",
    "DATABASES = {\n",
    "  'default': {\n",
    "         'ENGINE': 'mssql',\n",
    "     'NAME': \"miebachcapacitytooldb\",\n",
    "     'USER': 'miebachindianapolis',\n",
    "     \"PASSWORD\": 'Miebach1',\n",
    "     \"HOST\": 'miebachinternalprojectdbs.database.windows.net',\n",
    "     \"PORT\": \"1433\",\n",
    "     \"OPTIONS\": {\"driver\": \"ODBC Driver 17 for SQL Server\",\n",
    "     }\n",
    "  }\n",
    "}\n",
    "\n",
    "def connect_database():\n",
    "\n",
    "    driver = DATABASES['default']['OPTIONS']['driver']\n",
    "    server = DATABASES['default']['HOST']\n",
    "    database = DATABASES['default']['NAME']\n",
    "    username = DATABASES['default']['USER']\n",
    "    password = DATABASES['default']['PASSWORD']\n",
    "\n",
    "    # connection parameters\n",
    "    params = 'DRIVER=' + driver + ';' \\\n",
    "        'SERVER=' + server + ';' \\\n",
    "        'DATABASE=' + database + ';' \\\n",
    "        'UID=' + username + ';' \\\n",
    "        'PWD=' + password + ';'\n",
    "\n",
    "    conn_params = urllib.parse.quote_plus(params)\n",
    "    dbconn = create_engine('mssql+pyodbc:///?odbc_connect=%s' %\n",
    "                           conn_params, fast_executemany=False)\n",
    "\n",
    "    autocommit_engine = dbconn.execution_options(isolation_level=\"AUTOCOMMIT\")\n",
    "    return dbconn\n",
    "engine = connect_database()\n",
    "\n",
    "datatable='baseline_matchuom'\n",
    "\n",
    "df.to_sql(datatable, engine, if_exists='append', index=False)\n",
    "print('Done')"
   ]
  },
  {
   "cell_type": "code",
   "execution_count": null,
   "id": "90902297",
   "metadata": {},
   "outputs": [],
   "source": []
  },
  {
   "cell_type": "code",
   "execution_count": null,
   "id": "9514b130",
   "metadata": {},
   "outputs": [],
   "source": []
  }
 ],
 "metadata": {
  "kernelspec": {
   "display_name": "Python 3 (ipykernel)",
   "language": "python",
   "name": "python3"
  },
  "language_info": {
   "codemirror_mode": {
    "name": "ipython",
    "version": 3
   },
   "file_extension": ".py",
   "mimetype": "text/x-python",
   "name": "python",
   "nbconvert_exporter": "python",
   "pygments_lexer": "ipython3",
   "version": "3.9.12"
  },
  "vscode": {
   "interpreter": {
    "hash": "487d7ef45d6b0964a51c42eb8c40ba255a789120f17b618c1eeaa028c54b0528"
   }
  }
 },
 "nbformat": 4,
 "nbformat_minor": 5
}
