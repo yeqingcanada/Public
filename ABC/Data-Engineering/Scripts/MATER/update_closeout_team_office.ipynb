{
 "cells": [
  {
   "cell_type": "code",
   "execution_count": 5,
   "metadata": {},
   "outputs": [
    {
     "name": "stdout",
     "output_type": "stream",
     "text": [
      "Linked\n"
     ]
    }
   ],
   "source": [
    "import pandas as pd\n",
    "import numpy as np\n",
    "import os\n",
    "\n",
    "import urllib\n",
    "from sqlalchemy import create_engine, inspect\n",
    "\n",
    "DATABASES = {\n",
    "  'default': {\n",
    "     'ENGINE': 'mssql',\n",
    "     'NAME': \"Global_MATER\",\n",
    "     'USER': 'miebachindianapolis',\n",
    "     \"PASSWORD\": 'Miebach1',\n",
    "     \"HOST\": \"miebachinternal.database.windows.net\",\n",
    "     \"PORT\": \"1433\",\n",
    "     \"OPTIONS\": {\"driver\": \"ODBC Driver 17 for SQL Server\",\n",
    "             },\n",
    "     }\n",
    "}\n",
    "\n",
    "def connect_database():\n",
    "\n",
    "    driver = DATABASES['default']['OPTIONS']['driver']\n",
    "    server = DATABASES['default']['HOST']\n",
    "    database = DATABASES['default']['NAME']\n",
    "    username = DATABASES['default']['USER']\n",
    "    password = DATABASES['default']['PASSWORD']\n",
    "\n",
    "    # connection parameters\n",
    "    params = 'DRIVER=' + driver + ';' \\\n",
    "        'SERVER=' + server + ';' \\\n",
    "        'DATABASE=' + database + ';' \\\n",
    "        'UID=' + username + ';' \\\n",
    "        'PWD=' + password + ';'\n",
    "\n",
    "    conn_params = urllib.parse.quote_plus(params)\n",
    "    dbconn = create_engine('mssql+pyodbc:///?odbc_connect=%s' %\n",
    "                           conn_params, fast_executemany=False)\n",
    "\n",
    "    autocommit_engine = dbconn.execution_options(isolation_level=\"AUTOCOMMIT\")\n",
    "    return dbconn\n",
    "engine = connect_database()\n",
    "\n",
    "print(\"Linked\")"
   ]
  },
  {
   "cell_type": "code",
   "execution_count": 6,
   "metadata": {},
   "outputs": [
    {
     "name": "stdout",
     "output_type": "stream",
     "text": [
      "team_offcie_df -      office_id  team_id\n",
      "0           1        1\n",
      "1           1        2\n",
      "2           1        3\n",
      "3           1        4\n",
      "4           7       18\n",
      "5           7       19\n",
      "6           7       20\n",
      "7           8       16\n",
      "8           8       17\n",
      "9          13        5\n",
      "10         13        6\n",
      "11         13        7\n",
      "12         14        8\n",
      "13         14        9\n",
      "14         14       10\n",
      "15         14       11\n",
      "16         16       22\n",
      "17         16       23\n",
      "18         19       12\n",
      "19         19       13\n",
      "20         19       14\n",
      "21         19       15\n"
     ]
    }
   ],
   "source": [
    "\"\"\" find out the projects with the wrong team and tasks \"\"\"\n",
    "\n",
    "team_offcie_query = f'''\n",
    "    SELECT DISTINCT member.office_id, team.id as team_id\n",
    "    FROM core_user member\n",
    "    JOIN global_manage_closeoutteammember cotm ON cotm.member_id = member.id\n",
    "    join global_manage_closeoutteam team on team.id=cotm.team_id\n",
    "'''\n",
    "\n",
    "team_offcie_df = pd.read_sql(team_offcie_query, engine)\n",
    "\n",
    "print(\"team_offcie_df - \", team_offcie_df)"
   ]
  },
  {
   "cell_type": "code",
   "execution_count": 7,
   "metadata": {},
   "outputs": [
    {
     "name": "stdout",
     "output_type": "stream",
     "text": [
      "updating ...\n",
      "updating ...\n",
      "updating ...\n",
      "updating ...\n",
      "updating ...\n",
      "updating ...\n",
      "updating ...\n",
      "updating ...\n",
      "updating ...\n",
      "updating ...\n",
      "updating ...\n",
      "updating ...\n",
      "updating ...\n",
      "updating ...\n",
      "updating ...\n",
      "updating ...\n",
      "updating ...\n",
      "updating ...\n",
      "updating ...\n",
      "updating ...\n",
      "updating ...\n",
      "updating ...\n",
      "DONE\n"
     ]
    }
   ],
   "source": [
    "\"\"\" for each project, update or delete item data \"\"\"\n",
    "\n",
    "for index, row in team_offcie_df.iterrows():\n",
    "    team_id = row[\"team_id\"]\n",
    "    office_id = row['office_id']\n",
    "\n",
    "    update_query = f\"\"\"\n",
    "        UPDATE global_manage_closeoutteam\n",
    "        SET office_id = {office_id}\n",
    "        WHERE id = {team_id}\n",
    "    \"\"\"\n",
    "    with engine.begin() as connection:\n",
    "        connection.execute(update_query)\n",
    "    print(\"updating ...\")\n",
    "\n",
    "print(\"DONE\")"
   ]
  }
 ],
 "metadata": {
  "kernelspec": {
   "display_name": "Python 3 (ipykernel)",
   "language": "python",
   "name": "python3"
  },
  "language_info": {
   "codemirror_mode": {
    "name": "ipython",
    "version": 3
   },
   "file_extension": ".py",
   "mimetype": "text/x-python",
   "name": "python",
   "nbconvert_exporter": "python",
   "pygments_lexer": "ipython3",
   "version": "3.9.12"
  }
 },
 "nbformat": 4,
 "nbformat_minor": 2
}
